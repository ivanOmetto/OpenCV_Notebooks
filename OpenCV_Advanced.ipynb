{
 "cells": [
  {
   "cell_type": "markdown",
   "id": "123ecaf5",
   "metadata": {},
   "source": [
    "# Import libraries"
   ]
  },
  {
   "cell_type": "code",
   "execution_count": 1,
   "id": "fbef786d",
   "metadata": {},
   "outputs": [],
   "source": [
    "import cv2 as cv\n",
    "import numpy as np\n",
    "import matplotlib.pyplot as plt"
   ]
  },
  {
   "cell_type": "markdown",
   "id": "44f96322",
   "metadata": {},
   "source": [
    "# BITWISE Operations"
   ]
  },
  {
   "cell_type": "code",
   "execution_count": null,
   "id": "a8e0bb83",
   "metadata": {},
   "outputs": [],
   "source": [
    "blank = np.zeros((400, 400), dtype='uint8')\n",
    "\n",
    "rectangle = cv.rectangle(blank.copy(), (30, 30), (370, 370), 255, -1)\n",
    "circle = cv.circle(blank.copy(), (200, 200), 200, 255, -1)\n",
    "\n",
    "cv.imshow('rectangle', rectangle)\n",
    "cv.imshow('circle', circle)\n",
    "\n",
    "cv.waitKey(0)"
   ]
  },
  {
   "cell_type": "markdown",
   "id": "5fb16593",
   "metadata": {},
   "source": [
    "## Bitwise *AND*\n",
    "##### Intersecting regions"
   ]
  },
  {
   "cell_type": "code",
   "execution_count": null,
   "id": "08886fa2",
   "metadata": {},
   "outputs": [],
   "source": [
    "bitwise_and = cv.bitwise_and(rectangle, circle)\n",
    "cv.imshow('bitwise_and', bitwise_and)\n",
    "\n",
    "cv.waitKey(0)"
   ]
  },
  {
   "cell_type": "markdown",
   "id": "5671b700",
   "metadata": {},
   "source": [
    "## Bitwise *OR*\n",
    "##### Non-intersection and intersecting regions"
   ]
  },
  {
   "cell_type": "code",
   "execution_count": null,
   "id": "13fd8584",
   "metadata": {},
   "outputs": [],
   "source": [
    "bitwise_or = cv.bitwise_or(rectangle, circle)\n",
    "cv.imshow('bitwise_or', bitwise_or)\n",
    "\n",
    "cv.waitKey(0)"
   ]
  },
  {
   "cell_type": "markdown",
   "id": "0eef83cc",
   "metadata": {},
   "source": [
    "## Bitwise *XOR*\n",
    "##### Non-intersecting regions"
   ]
  },
  {
   "cell_type": "code",
   "execution_count": null,
   "id": "b844aba4",
   "metadata": {},
   "outputs": [],
   "source": [
    "bitwise_xor = cv.bitwise_xor(rectangle, circle)\n",
    "cv.imshow('bitwise_xor', bitwise_xor)\n",
    "\n",
    "cv.waitKey(0)"
   ]
  },
  {
   "cell_type": "markdown",
   "id": "0d3c435f",
   "metadata": {},
   "source": [
    "## Bitwise *NOT*\n",
    "##### Invert"
   ]
  },
  {
   "cell_type": "code",
   "execution_count": null,
   "id": "c757ccf0",
   "metadata": {},
   "outputs": [],
   "source": [
    "bitwise_not = cv.bitwise_not(rectangle)\n",
    "cv.imshow('bitwise_not', bitwise_not)\n",
    "\n",
    "cv.waitKey(0)"
   ]
  },
  {
   "cell_type": "code",
   "execution_count": null,
   "id": "767bff9b",
   "metadata": {},
   "outputs": [],
   "source": [
    "bitwise_not = cv.bitwise_not(circle)\n",
    "cv.imshow('bitwise_not', bitwise_not)\n",
    "\n",
    "cv.waitKey(0)"
   ]
  },
  {
   "cell_type": "markdown",
   "id": "13747510",
   "metadata": {},
   "source": [
    "# Masking"
   ]
  },
  {
   "cell_type": "code",
   "execution_count": null,
   "id": "8ef66521",
   "metadata": {},
   "outputs": [],
   "source": [
    "img = cv.imread('Resources/Photos/cats.jpg')\n",
    "blank = np.zeros(img.shape[:2], dtype='uint8')\n",
    "\n",
    "mask = cv.circle(blank, (img.shape[1]//2, img.shape[0]//2), 100, 255, -1)\n",
    "masked = cv.bitwise_and(img, img, mask=mask)\n",
    "\n",
    "cv.imshow('masked', masked)\n",
    "cv.waitKey(0)"
   ]
  },
  {
   "cell_type": "markdown",
   "id": "3b52ec9c",
   "metadata": {},
   "source": [
    "# Computing Histograms"
   ]
  },
  {
   "cell_type": "code",
   "execution_count": null,
   "id": "69892ea3",
   "metadata": {},
   "outputs": [],
   "source": [
    "img = cv.imread('Resources/Photos/cats.jpg')"
   ]
  },
  {
   "cell_type": "markdown",
   "id": "7bec2582",
   "metadata": {},
   "source": [
    "## Gray scale histogram"
   ]
  },
  {
   "cell_type": "code",
   "execution_count": null,
   "id": "e0179cab",
   "metadata": {},
   "outputs": [],
   "source": [
    "gray = cv.cvtColor(img, cv.COLOR_BGR2GRAY)\n",
    "\n",
    "gray_hist = cv.calcHist([gray], [0], None, [256], [0, 256])\n",
    "\n",
    "plt.figure()\n",
    "plt.title('Gray scale Histogram')\n",
    "plt.xlabel('# of pixels')\n",
    "plt.plot(gray_hist)\n",
    "plt.xlim([0, 256])\n",
    "plt.show()"
   ]
  },
  {
   "cell_type": "markdown",
   "id": "50637725",
   "metadata": {},
   "source": [
    "## Gray scale histogram with mask"
   ]
  },
  {
   "cell_type": "code",
   "execution_count": null,
   "id": "e8c9e7f2",
   "metadata": {},
   "outputs": [],
   "source": [
    "blank = np.zeros(gray.shape[:2], dtype='uint8')\n",
    "mask = cv.circle(blank, (gray.shape[1]//2, gray.shape[0]//2), 100, 255, -1)\n",
    "\n",
    "gray_hist = cv.calcHist([gray], [0], mask, [256], [0, 256])\n",
    "\n",
    "plt.figure()\n",
    "plt.title('Gray scale Histogram')\n",
    "plt.xlabel('# of pixels')\n",
    "plt.plot(gray_hist)\n",
    "plt.xlim([0, 256])\n",
    "plt.show()"
   ]
  },
  {
   "cell_type": "markdown",
   "id": "bd1c710f",
   "metadata": {},
   "source": [
    "## Colour Histogram"
   ]
  },
  {
   "cell_type": "code",
   "execution_count": null,
   "id": "c985391e",
   "metadata": {},
   "outputs": [],
   "source": [
    "plt.figure()\n",
    "plt.title('Colour scale Histogram')\n",
    "plt.xlabel('# of pixels')\n",
    "colors = ('b', 'g', 'r')\n",
    "\n",
    "for i,col in enumerate(colors):\n",
    "    hist = cv.calcHist([img], [i], None, [256], [0, 256])\n",
    "    plt.plot(hist, color=col)\n",
    "    plt.xlim([0, 256])\n",
    "    \n",
    "plt.show()"
   ]
  },
  {
   "cell_type": "markdown",
   "id": "0ab78158",
   "metadata": {},
   "source": [
    "## Colour Histogram with mask"
   ]
  },
  {
   "cell_type": "code",
   "execution_count": null,
   "id": "7b7a1918",
   "metadata": {},
   "outputs": [],
   "source": [
    "mask = cv.circle(blank, (img.shape[1]//2, img.shape[0]//2), 100, 255, -1)\n",
    "masked = cv.bitwise_and(img, img, mask=mask)\n",
    "\n",
    "plt.figure()\n",
    "plt.title('Colour scale Histogram')\n",
    "plt.xlabel('# of pixels')\n",
    "colors = ('b', 'g', 'r')\n",
    "\n",
    "for i,col in enumerate(colors):\n",
    "    hist = cv.calcHist([img], [i], mask, [256], [0, 256])\n",
    "    plt.plot(hist, color=col)\n",
    "    plt.xlim([0, 256])\n",
    "    \n",
    "plt.show()"
   ]
  },
  {
   "cell_type": "markdown",
   "id": "bd7170f5",
   "metadata": {},
   "source": [
    "# Thresholding"
   ]
  },
  {
   "cell_type": "code",
   "execution_count": 5,
   "id": "5df54dd1",
   "metadata": {},
   "outputs": [],
   "source": [
    "img = cv.imread('Resources/Photos/cats.jpg')\n",
    "gray = cv.cvtColor(img, cv.COLOR_BGR2GRAY)"
   ]
  },
  {
   "cell_type": "markdown",
   "id": "b929c40a",
   "metadata": {},
   "source": [
    "## Simple Thresholding"
   ]
  },
  {
   "cell_type": "code",
   "execution_count": 4,
   "id": "8e0182f9",
   "metadata": {},
   "outputs": [
    {
     "data": {
      "text/plain": [
       "32"
      ]
     },
     "execution_count": 4,
     "metadata": {},
     "output_type": "execute_result"
    }
   ],
   "source": [
    "threshold, thresh = cv.threshold(gray, 150, 255, cv.THRESH_BINARY)\n",
    "\n",
    "cv.imshow('Simple Thresholding', thresh)\n",
    "cv.waitKey(0)"
   ]
  },
  {
   "cell_type": "code",
   "execution_count": 6,
   "id": "bc66ef42",
   "metadata": {},
   "outputs": [
    {
     "data": {
      "text/plain": [
       "32"
      ]
     },
     "execution_count": 6,
     "metadata": {},
     "output_type": "execute_result"
    }
   ],
   "source": [
    "threshold, thresh = cv.threshold(gray, 150, 255, cv.THRESH_BINARY_INV)\n",
    "\n",
    "cv.imshow('Simple Thresholding Inverted', thresh)\n",
    "cv.waitKey(0)"
   ]
  },
  {
   "cell_type": "markdown",
   "id": "a3f90f3e",
   "metadata": {},
   "source": [
    "## Adaptive Thresholding"
   ]
  },
  {
   "cell_type": "code",
   "execution_count": 7,
   "id": "cae7c083",
   "metadata": {},
   "outputs": [
    {
     "data": {
      "text/plain": [
       "32"
      ]
     },
     "execution_count": 7,
     "metadata": {},
     "output_type": "execute_result"
    }
   ],
   "source": [
    "adaptive = cv.adaptiveThreshold(gray, 255, cv.ADAPTIVE_THRESH_MEAN_C, cv.THRESH_BINARY, 11, 3)\n",
    "\n",
    "cv.imshow('Adaptive Thresholding', adaptive)\n",
    "cv.waitKey(0)"
   ]
  },
  {
   "cell_type": "code",
   "execution_count": 8,
   "id": "2767328a",
   "metadata": {},
   "outputs": [
    {
     "data": {
      "text/plain": [
       "32"
      ]
     },
     "execution_count": 8,
     "metadata": {},
     "output_type": "execute_result"
    }
   ],
   "source": [
    "adaptive = cv.adaptiveThreshold(gray, 255, cv.ADAPTIVE_THRESH_MEAN_C, cv.THRESH_BINARY_INV, 11, 3)\n",
    "\n",
    "cv.imshow('Adaptive Thresholding Inverted', adaptive)\n",
    "cv.waitKey(0)"
   ]
  },
  {
   "cell_type": "code",
   "execution_count": 9,
   "id": "994d1e67",
   "metadata": {},
   "outputs": [
    {
     "data": {
      "text/plain": [
       "32"
      ]
     },
     "execution_count": 9,
     "metadata": {},
     "output_type": "execute_result"
    }
   ],
   "source": [
    "adaptive = cv.adaptiveThreshold(gray, 255, cv.ADAPTIVE_THRESH_GAUSSIAN_C, cv.THRESH_BINARY_INV, 11, 3)\n",
    "\n",
    "cv.imshow('Adaptive Thresholding Inverted Gaussian', adaptive)\n",
    "cv.waitKey(0)"
   ]
  },
  {
   "cell_type": "markdown",
   "id": "d6d6fc61",
   "metadata": {},
   "source": [
    "# Edge Detection"
   ]
  },
  {
   "cell_type": "code",
   "execution_count": 12,
   "id": "48e3c2f4",
   "metadata": {},
   "outputs": [],
   "source": [
    "img = cv.imread('Resources/Photos/park.jpg')\n",
    "gray = cv.cvtColor(img, cv.COLOR_BGR2GRAY)"
   ]
  },
  {
   "cell_type": "markdown",
   "id": "f1b6775e",
   "metadata": {},
   "source": [
    "## Laplacian"
   ]
  },
  {
   "cell_type": "code",
   "execution_count": 13,
   "id": "454b7812",
   "metadata": {},
   "outputs": [
    {
     "data": {
      "text/plain": [
       "32"
      ]
     },
     "execution_count": 13,
     "metadata": {},
     "output_type": "execute_result"
    }
   ],
   "source": [
    "lap = cv.Laplacian(gray, cv.CV_64F)\n",
    "lap = np.uint8(np.absolute(lap))\n",
    "\n",
    "cv.imshow('Laplacian', lap)\n",
    "cv.waitKey(0)"
   ]
  },
  {
   "cell_type": "markdown",
   "id": "59378cb3",
   "metadata": {},
   "source": [
    "## Sabel"
   ]
  },
  {
   "cell_type": "code",
   "execution_count": 15,
   "id": "dc2b73af",
   "metadata": {},
   "outputs": [
    {
     "data": {
      "text/plain": [
       "32"
      ]
     },
     "execution_count": 15,
     "metadata": {},
     "output_type": "execute_result"
    }
   ],
   "source": [
    "sobelx = cv.Sobel(gray, cv.CV_64F, 1, 0)\n",
    "sobely = cv.Sobel(gray, cv.CV_64F, 0, 1)\n",
    "\n",
    "combined = cv.bitwise_or(sobelx, sobely)\n",
    "\n",
    "cv.imshow('sobelx', sobelx)\n",
    "cv.imshow('sobely', sobely)\n",
    "cv.imshow('combined', combined)\n",
    "\n",
    "cv.waitKey(0)"
   ]
  },
  {
   "cell_type": "code",
   "execution_count": null,
   "id": "8882fbe8",
   "metadata": {},
   "outputs": [],
   "source": []
  }
 ],
 "metadata": {
  "kernelspec": {
   "display_name": "Python 3 (ipykernel)",
   "language": "python",
   "name": "python3"
  },
  "language_info": {
   "codemirror_mode": {
    "name": "ipython",
    "version": 3
   },
   "file_extension": ".py",
   "mimetype": "text/x-python",
   "name": "python",
   "nbconvert_exporter": "python",
   "pygments_lexer": "ipython3",
   "version": "3.10.2"
  }
 },
 "nbformat": 4,
 "nbformat_minor": 5
}
