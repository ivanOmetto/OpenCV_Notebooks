{
 "cells": [
  {
   "cell_type": "markdown",
   "id": "a2788616",
   "metadata": {},
   "source": [
    "# Import libraries"
   ]
  },
  {
   "cell_type": "code",
   "execution_count": 1,
   "id": "d34ad8bb",
   "metadata": {},
   "outputs": [],
   "source": [
    "import cv2 as cv\n",
    "import numpy as np\n",
    "import matplotlib.pyplot as plt"
   ]
  },
  {
   "cell_type": "markdown",
   "id": "740e3664",
   "metadata": {},
   "source": [
    "# Contour Detection"
   ]
  },
  {
   "cell_type": "markdown",
   "id": "26a4b37f",
   "metadata": {},
   "source": [
    "## Find edge cascade of the image using canny"
   ]
  },
  {
   "cell_type": "code",
   "execution_count": null,
   "id": "1db094f4",
   "metadata": {},
   "outputs": [],
   "source": [
    "img = cv.imread('Resources/Photos/cats.jpg')\n",
    "img = cv.cvtColor(img, cv.COLOR_BGR2GRAY)\n",
    "img = cv.GaussianBlur(img, (5, 5), cv.BORDER_DEFAULT)\n",
    "img = cv.Canny(img, 125, 175)\n",
    "\n",
    "cv.imshow('Cats', img)\n",
    "\n",
    "contours, hierarchies = cv.findContours(img, cv.RETR_LIST, cv.CHAIN_APPROX_SIMPLE)\n",
    "print(f'{len(contours)} contours found')\n",
    "\n",
    "cv.waitKey(0)"
   ]
  },
  {
   "cell_type": "markdown",
   "id": "c193677c",
   "metadata": {},
   "source": [
    "## Binarize the image using the cv.threshold"
   ]
  },
  {
   "cell_type": "code",
   "execution_count": null,
   "id": "a54d023b",
   "metadata": {},
   "outputs": [],
   "source": [
    "img = cv.imread('Resources/Photos/cats.jpg')\n",
    "img = cv.cvtColor(img, cv.COLOR_BGR2GRAY)\n",
    "\n",
    "ret, thresh = cv.threshold(img, 125, 255, cv.THRESH_BINARY)\n",
    "\n",
    "cv.imshow('thresh', thresh)\n",
    "\n",
    "contours, hierarchies = cv.findContours(thresh, cv.RETR_LIST, cv.CHAIN_APPROX_SIMPLE)\n",
    "print(f'{len(contours)} contours found')\n",
    "\n",
    "cv.waitKey(0)"
   ]
  },
  {
   "cell_type": "markdown",
   "id": "037a86e0",
   "metadata": {},
   "source": [
    "## Draw contours on a blank canvas"
   ]
  },
  {
   "cell_type": "code",
   "execution_count": null,
   "id": "e86f625f",
   "metadata": {},
   "outputs": [],
   "source": [
    "img = cv.imread('Resources/Photos/cats.jpg')\n",
    "\n",
    "blank = np.zeros(img.shape, dtype='uint8')\n",
    "\n",
    "img = cv.cvtColor(img, cv.COLOR_BGR2GRAY)\n",
    "\n",
    "ret, thresh = cv.threshold(img, 125, 255, cv.THRESH_BINARY)\n",
    "\n",
    "contours, hierarchies = cv.findContours(thresh, cv.RETR_LIST, cv.CHAIN_APPROX_SIMPLE)\n",
    "print(f'{len(contours)} contours found')\n",
    "\n",
    "cv.drawContours(blank, contours, -1, (0,0,255), 1)\n",
    "cv.imshow('contours', blank)\n",
    "\n",
    "cv.waitKey(0)"
   ]
  },
  {
   "cell_type": "markdown",
   "id": "1a9740ed",
   "metadata": {},
   "source": [
    "# Color Spaces"
   ]
  },
  {
   "cell_type": "code",
   "execution_count": null,
   "id": "3dbb8f5a",
   "metadata": {},
   "outputs": [],
   "source": [
    "img = cv.imread('Resources/Photos/cats.jpg')"
   ]
  },
  {
   "cell_type": "markdown",
   "id": "f8ee6808",
   "metadata": {},
   "source": [
    "## BGR to Grayscale"
   ]
  },
  {
   "cell_type": "code",
   "execution_count": null,
   "id": "ceb5bc22",
   "metadata": {},
   "outputs": [],
   "source": [
    "gray = cv.cvtColor(img, cv.COLOR_BGR2GRAY)\n",
    "\n",
    "cv.imshow('Gray', gray)\n",
    "cv.waitKey(0)"
   ]
  },
  {
   "cell_type": "markdown",
   "id": "5928401d",
   "metadata": {},
   "source": [
    "## BGR to HSV"
   ]
  },
  {
   "cell_type": "code",
   "execution_count": null,
   "id": "120ef777",
   "metadata": {},
   "outputs": [],
   "source": [
    "hsv = cv.cvtColor(img, cv.COLOR_BGR2HSV)\n",
    "\n",
    "cv.imshow('hsv', hsv)\n",
    "cv.waitKey(0)"
   ]
  },
  {
   "cell_type": "markdown",
   "id": "8b80dff0",
   "metadata": {},
   "source": [
    "## BGR to L*a*b"
   ]
  },
  {
   "cell_type": "code",
   "execution_count": null,
   "id": "591d709e",
   "metadata": {},
   "outputs": [],
   "source": [
    "lab = cv.cvtColor(img, cv.COLOR_BGR2LAB)\n",
    "\n",
    "cv.imshow('lab', lab)\n",
    "cv.waitKey(0)"
   ]
  },
  {
   "cell_type": "markdown",
   "id": "4845196b",
   "metadata": {},
   "source": [
    "## BGR to RGB"
   ]
  },
  {
   "cell_type": "code",
   "execution_count": null,
   "id": "65396b47",
   "metadata": {},
   "outputs": [],
   "source": [
    "rgb = cv.cvtColor(img, cv.COLOR_BGR2RGB)\n",
    "\n",
    "cv.imshow('rgb', rgb)\n",
    "cv.waitKey(0)"
   ]
  },
  {
   "cell_type": "code",
   "execution_count": null,
   "id": "0bafaea1",
   "metadata": {},
   "outputs": [],
   "source": [
    "plt.imshow(rgb)\n",
    "plt.show()"
   ]
  },
  {
   "cell_type": "markdown",
   "id": "eeaa946f",
   "metadata": {},
   "source": [
    "## HSV to BGR"
   ]
  },
  {
   "cell_type": "code",
   "execution_count": null,
   "id": "5238d0e3",
   "metadata": {},
   "outputs": [],
   "source": [
    "hsv_bgr = cv.cvtColor(hsv, cv.COLOR_HSV2BGR)\n",
    "\n",
    "cv.imshow('hsv_bgr', hsv_bgr)\n",
    "cv.waitKey(0)"
   ]
  },
  {
   "cell_type": "markdown",
   "id": "e437636a",
   "metadata": {},
   "source": [
    "# Colour Channels"
   ]
  },
  {
   "cell_type": "code",
   "execution_count": null,
   "id": "0d7a94b2",
   "metadata": {},
   "outputs": [],
   "source": [
    "img = cv.imread('Resources/Photos/park.jpg')\n",
    "\n",
    "b, g, r = cv.split(img)\n",
    "\n",
    "cv.imshow('Blue', b)\n",
    "cv.imshow('Green', g)\n",
    "cv.imshow('Red', r)\n",
    "\n",
    "print(img.shape)\n",
    "print(b.shape)\n",
    "print(g.shape)\n",
    "print(r.shape)\n",
    "\n",
    "merge = cv.merge([b, g, r])\n",
    "cv.imshow('Merge', merge)\n",
    "\n",
    "cv.waitKey(0)"
   ]
  },
  {
   "cell_type": "code",
   "execution_count": null,
   "id": "a7d16531",
   "metadata": {},
   "outputs": [],
   "source": [
    "blank = np.zeros(img.shape[:2], dtype='uint8')\n",
    "\n",
    "blue = cv.merge([b, blank, blank])\n",
    "green = cv.merge([blank, g, blank])\n",
    "red = cv.merge([blank, blank, r])\n",
    "\n",
    "cv.imshow('Blue', blue)\n",
    "cv.imshow('Green', green)\n",
    "cv.imshow('Red', red)\n",
    "\n",
    "cv.waitKey(0)"
   ]
  },
  {
   "cell_type": "markdown",
   "id": "c83cbf39",
   "metadata": {},
   "source": [
    "# Blurring Techniques"
   ]
  },
  {
   "cell_type": "code",
   "execution_count": null,
   "id": "216d69e3",
   "metadata": {},
   "outputs": [],
   "source": [
    "img = cv.imread('Resources/Photos/cats.jpg')"
   ]
  },
  {
   "cell_type": "markdown",
   "id": "c3dc5f54",
   "metadata": {},
   "source": [
    "## Avarage"
   ]
  },
  {
   "cell_type": "code",
   "execution_count": null,
   "id": "86990d87",
   "metadata": {},
   "outputs": [],
   "source": [
    "avarage = cv.blur(img, (3, 3))\n",
    "\n",
    "cv.imshow('avarage', avarage)\n",
    "cv.waitKey(0)"
   ]
  },
  {
   "cell_type": "markdown",
   "id": "f5867f92",
   "metadata": {},
   "source": [
    "## Guassian Blur"
   ]
  },
  {
   "cell_type": "code",
   "execution_count": null,
   "id": "5bf6ea6c",
   "metadata": {},
   "outputs": [],
   "source": [
    "gauss = cv.GaussianBlur(img, (3, 3), 0)\n",
    "\n",
    "cv.imshow('gauss', gauss)\n",
    "cv.waitKey(0)"
   ]
  },
  {
   "cell_type": "markdown",
   "id": "932b9389",
   "metadata": {},
   "source": [
    "## Median Blur"
   ]
  },
  {
   "cell_type": "code",
   "execution_count": null,
   "id": "7560e727",
   "metadata": {},
   "outputs": [],
   "source": [
    "median = cv.medianBlur(img, 3)\n",
    "\n",
    "cv.imshow('median', median)\n",
    "cv.waitKey(0)"
   ]
  },
  {
   "cell_type": "markdown",
   "id": "c76fb990",
   "metadata": {},
   "source": [
    "## Bilateral"
   ]
  },
  {
   "cell_type": "code",
   "execution_count": null,
   "id": "65a35313",
   "metadata": {},
   "outputs": [],
   "source": [
    "bilateral = cv.bilateralFilter(img, 10, 35, 25)\n",
    "\n",
    "cv.imshow('bilateral', bilateral)\n",
    "cv.waitKey(0)"
   ]
  }
 ],
 "metadata": {
  "kernelspec": {
   "display_name": "Python 3 (ipykernel)",
   "language": "python",
   "name": "python3"
  },
  "language_info": {
   "codemirror_mode": {
    "name": "ipython",
    "version": 3
   },
   "file_extension": ".py",
   "mimetype": "text/x-python",
   "name": "python",
   "nbconvert_exporter": "python",
   "pygments_lexer": "ipython3",
   "version": "3.10.2"
  }
 },
 "nbformat": 4,
 "nbformat_minor": 5
}
