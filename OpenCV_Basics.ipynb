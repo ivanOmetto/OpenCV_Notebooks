{
 "cells": [
  {
   "cell_type": "markdown",
   "id": "e17a426a",
   "metadata": {},
   "source": [
    "## Import libraries"
   ]
  },
  {
   "cell_type": "code",
   "execution_count": 1,
   "id": "b82adf91",
   "metadata": {},
   "outputs": [],
   "source": [
    "import cv2 as cv\n",
    "import numpy as np"
   ]
  },
  {
   "cell_type": "markdown",
   "id": "adf9b8ce",
   "metadata": {},
   "source": [
    "## Image Read"
   ]
  },
  {
   "cell_type": "code",
   "execution_count": null,
   "id": "e8a9b203",
   "metadata": {},
   "outputs": [],
   "source": [
    "img = cv.imread('Resources/Photos/cat.jpg')\n",
    "cv.imshow('Cat', img)\n",
    "\n",
    "cv.waitKey(0)"
   ]
  },
  {
   "cell_type": "code",
   "execution_count": null,
   "id": "94e74006",
   "metadata": {},
   "outputs": [],
   "source": [
    "img = cv.imread('Resources/Photos/cat_large.jpg')\n",
    "cv.imshow('Cat', img)\n",
    "\n",
    "cv.waitKey(0)"
   ]
  },
  {
   "cell_type": "markdown",
   "id": "9f78853f",
   "metadata": {},
   "source": [
    "## Read Video"
   ]
  },
  {
   "cell_type": "code",
   "execution_count": null,
   "id": "0efd5aef",
   "metadata": {},
   "outputs": [],
   "source": [
    "capture = cv.VideoCapture('Resources/Videos/dog.mp4')\n",
    "\n",
    "while True:\n",
    "    isTrue, frame = capture.read()\n",
    "    cv.imshow('Video', frame)\n",
    "    \n",
    "    if cv.waitKey(20) & 0xFF == ord('d'):\n",
    "        break\n",
    "        \n",
    "capture.release()\n",
    "cv.destroyAllWindows()"
   ]
  },
  {
   "cell_type": "markdown",
   "id": "c5ceda18",
   "metadata": {},
   "source": [
    "## Read Webcan"
   ]
  },
  {
   "cell_type": "code",
   "execution_count": null,
   "id": "92e0bccc",
   "metadata": {},
   "outputs": [],
   "source": [
    "capture = cv.VideoCapture(0)\n",
    "\n",
    "while True:\n",
    "    isTrue, frame = capture.read()\n",
    "    cv.imshow('Video', frame)\n",
    "    \n",
    "    if cv.waitKey(20) & 0xFF == ord('d'):\n",
    "        break\n",
    "        \n",
    "capture.release()\n",
    "cv.destroyAllWindows()"
   ]
  },
  {
   "cell_type": "markdown",
   "id": "17a4addc",
   "metadata": {},
   "source": [
    "# Resizing and rescaling frames"
   ]
  },
  {
   "cell_type": "markdown",
   "id": "bf9e127f",
   "metadata": {},
   "source": [
    "## Resizing\n",
    "##### Images, videos, Live video"
   ]
  },
  {
   "cell_type": "code",
   "execution_count": null,
   "id": "9b85a2f0",
   "metadata": {},
   "outputs": [],
   "source": [
    "def rescaleFrame(frame, scale=0.50):\n",
    "    width = int(frame.shape[1] * scale)\n",
    "    height = int(frame.shape[0] * scale)\n",
    "    \n",
    "    dimensions = (width, height)\n",
    "    \n",
    "    return cv.resize(frame, dimensions, interpolation = cv.INTER_AREA)"
   ]
  },
  {
   "cell_type": "code",
   "execution_count": null,
   "id": "d756abec",
   "metadata": {},
   "outputs": [],
   "source": [
    "capture = cv.VideoCapture('Resources/Videos/dog.mp4')\n",
    "\n",
    "while True:\n",
    "    isTrue, frame = capture.read()\n",
    "    \n",
    "    frame_resized = rescaleFrame(frame)\n",
    "    \n",
    "    # cv.imshow('Video', frame)\n",
    "    cv.imshow('Video', frame_resized)\n",
    "    \n",
    "    if cv.waitKey(20) & 0xFF == ord('d'):\n",
    "        break\n",
    "        \n",
    "capture.release()\n",
    "cv.destroyAllWindows()"
   ]
  },
  {
   "cell_type": "code",
   "execution_count": null,
   "id": "9f047e71",
   "metadata": {},
   "outputs": [],
   "source": [
    "img = cv.imread('Resources/Photos/cat_large.jpg')\n",
    "\n",
    "resized_img = rescaleFrame(img)\n",
    "\n",
    "# cv.imshow('Cat', img)\n",
    "cv.imshow('Cat', resized_img)\n",
    "\n",
    "cv.waitKey(0)"
   ]
  },
  {
   "cell_type": "markdown",
   "id": "4e1339fa",
   "metadata": {},
   "source": [
    "## Changing resolution\n",
    "##### Live video"
   ]
  },
  {
   "cell_type": "code",
   "execution_count": null,
   "id": "42c13d46",
   "metadata": {},
   "outputs": [],
   "source": [
    "def changeRes(width, height):\n",
    "    capture.set(3, width)\n",
    "    capture.set(4, height)"
   ]
  },
  {
   "cell_type": "code",
   "execution_count": null,
   "id": "998a88ae",
   "metadata": {},
   "outputs": [],
   "source": [
    "capture = cv.VideoCapture(0)\n",
    "\n",
    "changeRes(300, 200)\n",
    "\n",
    "while True:\n",
    "    isTrue, frame = capture.read()\n",
    "    cv.imshow('Video', frame)\n",
    "    \n",
    "    if cv.waitKey(20) & 0xFF == ord('d'):\n",
    "        break\n",
    "        \n",
    "capture.release()\n",
    "cv.destroyAllWindows()"
   ]
  },
  {
   "cell_type": "markdown",
   "id": "bca37cba",
   "metadata": {},
   "source": [
    "# Draw shapes e text"
   ]
  },
  {
   "cell_type": "markdown",
   "id": "56ced8da",
   "metadata": {},
   "source": [
    "## Draw"
   ]
  },
  {
   "cell_type": "code",
   "execution_count": null,
   "id": "8c342cd3",
   "metadata": {},
   "outputs": [],
   "source": [
    "blank = np.zeros((500, 500, 3), dtype='uint8')\n",
    "# cv.imshow('Blank', blank)\n",
    "\n",
    "cv.waitKey(0)"
   ]
  },
  {
   "cell_type": "code",
   "execution_count": null,
   "id": "3c7c1027",
   "metadata": {},
   "outputs": [],
   "source": [
    "# 1: Paint the image a certain colour\n",
    "blank[:] = 0, 255, 0\n",
    "cv.imshow('Green', blank)\n",
    "\n",
    "cv.waitKey(0)"
   ]
  },
  {
   "cell_type": "code",
   "execution_count": null,
   "id": "be636da3",
   "metadata": {},
   "outputs": [],
   "source": [
    "# 2: Draw a rectangle\n",
    "cv.rectangle(blank, (0, 0), (blank.shape[1]//2, blank.shape[0]), (0, 255, 0), thickness=cv.FILLED)\n",
    "cv.imshow('Rectangle', blank)\n",
    "\n",
    "cv.waitKey(0)"
   ]
  },
  {
   "cell_type": "code",
   "execution_count": null,
   "id": "f21ae0d2",
   "metadata": {},
   "outputs": [],
   "source": [
    "# 3: Draw a circle\n",
    "cv.circle(blank, (blank.shape[1]//2, blank.shape[0]//2), 40, (154, 255, 255), thickness=cv.FILLED)\n",
    "cv.imshow('Circle', blank)\n",
    "\n",
    "cv.waitKey(0)"
   ]
  },
  {
   "cell_type": "code",
   "execution_count": null,
   "id": "880be88c",
   "metadata": {},
   "outputs": [],
   "source": [
    "# 4: Draw a line\n",
    "cv.line(blank, (0, 0),(blank.shape[1]//2, blank.shape[0]//2), (0, 0, 255), thickness=3)\n",
    "cv.line(blank, (500, 0),(blank.shape[1]//2, blank.shape[0]//2), (0, 0, 255), thickness=3)\n",
    "cv.line(blank, (500, 500),(blank.shape[1]//2, blank.shape[0]//2), (0, 0, 255), thickness=3)\n",
    "cv.line(blank, (0, 500),(blank.shape[1]//2, blank.shape[0]//2), (0, 0, 255), thickness=3)\n",
    "\n",
    "cv.imshow('Line', blank)\n",
    "\n",
    "cv.waitKey(0)"
   ]
  },
  {
   "cell_type": "markdown",
   "id": "ec09543b",
   "metadata": {},
   "source": [
    "## Text"
   ]
  },
  {
   "cell_type": "code",
   "execution_count": null,
   "id": "792a719d",
   "metadata": {},
   "outputs": [],
   "source": [
    "cv.putText(blank, 'Hello', (255, 255), cv.FONT_HERSHEY_TRIPLEX, 1.0, (0, 255, 0), 2)\n",
    "cv.imshow('Text', blank)\n",
    "\n",
    "cv.waitKey(0)"
   ]
  },
  {
   "cell_type": "markdown",
   "id": "e0468e81",
   "metadata": {},
   "source": [
    "# Essential functions"
   ]
  },
  {
   "cell_type": "markdown",
   "id": "42ae0a06",
   "metadata": {},
   "source": [
    "## Gray scale"
   ]
  },
  {
   "cell_type": "code",
   "execution_count": null,
   "id": "14cb2f1b",
   "metadata": {},
   "outputs": [],
   "source": [
    "img = cv.imread('Resources/Photos/cat.jpg')\n",
    "\n",
    "gray = cv.cvtColor(img, cv.COLOR_BGR2GRAY)\n",
    "cv.imshow('Cat', gray)\n",
    "\n",
    "cv.waitKey(0)"
   ]
  },
  {
   "cell_type": "markdown",
   "id": "07762b5b",
   "metadata": {},
   "source": [
    "## Blur"
   ]
  },
  {
   "cell_type": "code",
   "execution_count": null,
   "id": "a82a9040",
   "metadata": {},
   "outputs": [],
   "source": [
    "img = cv.imread('Resources/Photos/park.jpg')\n",
    "\n",
    "blur = cv.GaussianBlur(img, (5, 5), cv.BORDER_DEFAULT)\n",
    "cv.imshow('Blur', blur)\n",
    "\n",
    "cv.waitKey(0)"
   ]
  },
  {
   "cell_type": "markdown",
   "id": "65e53c1e",
   "metadata": {},
   "source": [
    "## Edge cascade"
   ]
  },
  {
   "cell_type": "code",
   "execution_count": null,
   "id": "4e9762d0",
   "metadata": {},
   "outputs": [],
   "source": [
    "canny = cv.Canny(blur, 125, 175)\n",
    "cv.imshow('Edge cascade', canny)\n",
    "\n",
    "cv.waitKey(0)"
   ]
  },
  {
   "cell_type": "markdown",
   "id": "9f095f93",
   "metadata": {},
   "source": [
    "## Dilating the image"
   ]
  },
  {
   "cell_type": "code",
   "execution_count": null,
   "id": "f7f36bd5",
   "metadata": {},
   "outputs": [],
   "source": [
    "dilated = cv.dilate(canny, (3, 3), iterations=3)\n",
    "cv.imshow('dilated', dilated)\n",
    "\n",
    "cv.waitKey(0)"
   ]
  },
  {
   "cell_type": "markdown",
   "id": "88ad37c7",
   "metadata": {},
   "source": [
    "## Eroding"
   ]
  },
  {
   "cell_type": "code",
   "execution_count": null,
   "id": "b090cf12",
   "metadata": {},
   "outputs": [],
   "source": [
    "eroded = cv.erode(dilated, (7, 7), iterations=3)\n",
    "cv.imshow('eroded', eroded)\n",
    "\n",
    "cv.waitKey(0)"
   ]
  },
  {
   "cell_type": "markdown",
   "id": "b0dd2ef6",
   "metadata": {},
   "source": [
    "## Resize"
   ]
  },
  {
   "cell_type": "code",
   "execution_count": null,
   "id": "d25b00c1",
   "metadata": {},
   "outputs": [],
   "source": [
    "resized = cv.resize(img, (500, 500), interpolation=cv.INTER_CUBIC)\n",
    "cv.imshow('resized', resized)\n",
    "\n",
    "cv.waitKey(0)"
   ]
  },
  {
   "cell_type": "markdown",
   "id": "f786e7b5",
   "metadata": {},
   "source": [
    "## Cropping"
   ]
  },
  {
   "cell_type": "code",
   "execution_count": null,
   "id": "33263122",
   "metadata": {},
   "outputs": [],
   "source": [
    "cropped = img[50:200, 200:400]\n",
    "cv.imshow('cropped', cropped)\n",
    "\n",
    "cv.waitKey(0)"
   ]
  },
  {
   "cell_type": "markdown",
   "id": "9646347d",
   "metadata": {},
   "source": [
    "# Image Transformation"
   ]
  },
  {
   "cell_type": "markdown",
   "id": "1d4c9a72",
   "metadata": {},
   "source": [
    "## Translation\n",
    "##### -x --> Left\n",
    "##### -y --> Up\n",
    "##### x ---> Right\n",
    "##### y ---> Down"
   ]
  },
  {
   "cell_type": "code",
   "execution_count": 2,
   "id": "decd0195",
   "metadata": {},
   "outputs": [],
   "source": [
    "def translate(img, x, y):\n",
    "    transMat = np.float32([[1, 0, x], [0, 1, y]])\n",
    "    dimensions = (img.shape[1], img.shape[0])\n",
    "    \n",
    "    return cv.warpAffine(img, transMat, dimensions)"
   ]
  },
  {
   "cell_type": "code",
   "execution_count": 4,
   "id": "a9629340",
   "metadata": {},
   "outputs": [
    {
     "data": {
      "text/plain": [
       "32"
      ]
     },
     "execution_count": 4,
     "metadata": {},
     "output_type": "execute_result"
    }
   ],
   "source": [
    "img = cv.imread('Resources/Photos/park.jpg')\n",
    "translated = translate(img, 100, 100)\n",
    "\n",
    "cv.imshow('translated', translated)\n",
    "cv.waitKey(0)"
   ]
  },
  {
   "cell_type": "markdown",
   "id": "45d1ae41",
   "metadata": {},
   "source": [
    "## Rotation"
   ]
  },
  {
   "cell_type": "code",
   "execution_count": 5,
   "id": "69ab3f21",
   "metadata": {},
   "outputs": [],
   "source": [
    "def rotate(img, angle, rotPoint=None):\n",
    "    (height, width) = img.shape[:2]\n",
    "    \n",
    "    if rotPoint is None:\n",
    "        rotPoint = (width//2, height//2)\n",
    "        \n",
    "    rotMat = cv.getRotationMatrix2D(rotPoint, angle, 1.0)\n",
    "    dimensions = (width, height)\n",
    "    \n",
    "    return cv.warpAffine(img, rotMat, dimensions)"
   ]
  },
  {
   "cell_type": "code",
   "execution_count": 6,
   "id": "b13c2025",
   "metadata": {},
   "outputs": [
    {
     "data": {
      "text/plain": [
       "32"
      ]
     },
     "execution_count": 6,
     "metadata": {},
     "output_type": "execute_result"
    }
   ],
   "source": [
    "img = cv.imread('Resources/Photos/park.jpg')\n",
    "rotated = rotate(img, 45)\n",
    "\n",
    "cv.imshow('rotated', rotated)\n",
    "cv.waitKey(0)"
   ]
  },
  {
   "cell_type": "markdown",
   "id": "4863b075",
   "metadata": {},
   "source": [
    "## Resizing"
   ]
  },
  {
   "cell_type": "code",
   "execution_count": 7,
   "id": "095629aa",
   "metadata": {},
   "outputs": [
    {
     "data": {
      "text/plain": [
       "32"
      ]
     },
     "execution_count": 7,
     "metadata": {},
     "output_type": "execute_result"
    }
   ],
   "source": [
    "img = cv.imread('Resources/Photos/park.jpg')\n",
    "resized = cv.resize(img, (300, 350), interpolation=cv.INTER_CUBIC)\n",
    "\n",
    "cv.imshow('resized', resized)\n",
    "cv.waitKey(0)"
   ]
  },
  {
   "cell_type": "markdown",
   "id": "de29e1c5",
   "metadata": {},
   "source": [
    "## Flipping"
   ]
  },
  {
   "cell_type": "code",
   "execution_count": 8,
   "id": "a5e38673",
   "metadata": {},
   "outputs": [
    {
     "data": {
      "text/plain": [
       "32"
      ]
     },
     "execution_count": 8,
     "metadata": {},
     "output_type": "execute_result"
    }
   ],
   "source": [
    "img = cv.imread('Resources/Photos/park.jpg')\n",
    "flip = cv.flip(img, -1)\n",
    "\n",
    "cv.imshow('flip', flip)\n",
    "cv.waitKey(0)"
   ]
  },
  {
   "cell_type": "markdown",
   "id": "92588893",
   "metadata": {},
   "source": [
    "## Cropping"
   ]
  },
  {
   "cell_type": "code",
   "execution_count": 9,
   "id": "f1861e81",
   "metadata": {},
   "outputs": [
    {
     "data": {
      "text/plain": [
       "32"
      ]
     },
     "execution_count": 9,
     "metadata": {},
     "output_type": "execute_result"
    }
   ],
   "source": [
    "img = cv.imread('Resources/Photos/park.jpg')\n",
    "cropped = img[200:400, 300:400]\n",
    "\n",
    "cv.imshow('cropped', cropped)\n",
    "cv.waitKey(0)"
   ]
  },
  {
   "cell_type": "code",
   "execution_count": null,
   "id": "45d2f0eb",
   "metadata": {},
   "outputs": [],
   "source": []
  }
 ],
 "metadata": {
  "kernelspec": {
   "display_name": "Python 3 (ipykernel)",
   "language": "python",
   "name": "python3"
  },
  "language_info": {
   "codemirror_mode": {
    "name": "ipython",
    "version": 3
   },
   "file_extension": ".py",
   "mimetype": "text/x-python",
   "name": "python",
   "nbconvert_exporter": "python",
   "pygments_lexer": "ipython3",
   "version": "3.10.2"
  }
 },
 "nbformat": 4,
 "nbformat_minor": 5
}
